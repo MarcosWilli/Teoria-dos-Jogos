{
 "cells": [
  {
   "cell_type": "markdown",
   "metadata": {},
   "source": [
    "# Jogo único em estratégias mistas (duas estratégias e dois jogadores)\n",
    "\n",
    "## O jogo em si:\n",
    "\n",
    "Tal jogo é um jogo de um período composto por dois jogadores, cada um possuindo um espaço 2x2 de estratégias mistas.\n",
    "\n",
    "* Estratégias mistas: os jogadores possuem incerteza sobre a tomada de ação. Ou seja, cada jogador irá jogar a estratégia $s_{j}$ ($j$ representa a $j$-ésima estratégia) com probabilidade/frequência $p_j$ (a soma das frequências de cada jogador é $1$);\n",
    "\n",
    "\n",
    "* Um período: o jogo pode conter vários períodos (até uma quantidade infinita de períodos) nos quais os jogadores podem atuar. O jogo em questão possui somente um período;\n",
    "\n",
    "\n",
    "* Espaço de duas estratégias: em cada período, cada jogador possui somente duas estratégias/ações disponíveis para serem tomadas.\n",
    "\n",
    "## Criação da representação do jogo:\n",
    "\n",
    "O módulo que se relaciona com esse notebook se chama Jog2_T1_2x2_Mis. Nele se encontram as funções de representação do jogo, assim como a função que encontra os Equilíbrios de Nash (todos os EN) do mesmo. Para a representação do jogo, temos as seguintes funções:\n",
    "\n",
    "* estrategias_payoffs(menor, maior): os parâmetros *menor* e *maior* se referem ao menor e ao maior payoffs possíveis no jogo. Isso porque iremos gerar os payoffs de forma aleatória uniforme. A função retorna os payoffs de um jogador. Para determinar os payoffs dos dois jogadores, basta determinar duas variáveis, cada uma chamando essa função uma vez (ver abaixo);\n",
    "\n",
    "\n",
    "* jogo(payoff1, payoff2): os parâmetros *payoff1* e *payoff2* são os payoffs dos jogadores *1* e *2* gerados pela função acima. A função retorna a representação conjunta dos payoffs."
   ]
  },
  {
   "cell_type": "code",
   "execution_count": 1,
   "metadata": {},
   "outputs": [],
   "source": [
    "import Jog2_T1_2x2_Mis as j2m\n",
    "payoff1 = j2m.estrategias_payoffs(-100, 100)\n",
    "payoff2 = j2m.estrategias_payoffs(-100, 100)"
   ]
  },
  {
   "cell_type": "code",
   "execution_count": 2,
   "metadata": {},
   "outputs": [
    {
     "data": {
      "text/html": [
       "<div>\n",
       "<style scoped>\n",
       "    .dataframe tbody tr th:only-of-type {\n",
       "        vertical-align: middle;\n",
       "    }\n",
       "\n",
       "    .dataframe tbody tr th {\n",
       "        vertical-align: top;\n",
       "    }\n",
       "\n",
       "    .dataframe thead th {\n",
       "        text-align: right;\n",
       "    }\n",
       "</style>\n",
       "<table border=\"1\" class=\"dataframe\">\n",
       "  <thead>\n",
       "    <tr style=\"text-align: right;\">\n",
       "      <th></th>\n",
       "      <th>s_1</th>\n",
       "      <th>s_2</th>\n",
       "    </tr>\n",
       "  </thead>\n",
       "  <tbody>\n",
       "    <tr>\n",
       "      <th>s_1</th>\n",
       "      <td>61.26</td>\n",
       "      <td>-6.09</td>\n",
       "    </tr>\n",
       "    <tr>\n",
       "      <th>s_2</th>\n",
       "      <td>-4.49</td>\n",
       "      <td>96.14</td>\n",
       "    </tr>\n",
       "  </tbody>\n",
       "</table>\n",
       "</div>"
      ],
      "text/plain": [
       "       s_1    s_2\n",
       "s_1  61.26  -6.09\n",
       "s_2  -4.49  96.14"
      ]
     },
     "execution_count": 2,
     "metadata": {},
     "output_type": "execute_result"
    }
   ],
   "source": [
    "payoff1"
   ]
  },
  {
   "cell_type": "code",
   "execution_count": 3,
   "metadata": {},
   "outputs": [
    {
     "data": {
      "text/html": [
       "<div>\n",
       "<style scoped>\n",
       "    .dataframe tbody tr th:only-of-type {\n",
       "        vertical-align: middle;\n",
       "    }\n",
       "\n",
       "    .dataframe tbody tr th {\n",
       "        vertical-align: top;\n",
       "    }\n",
       "\n",
       "    .dataframe thead th {\n",
       "        text-align: right;\n",
       "    }\n",
       "</style>\n",
       "<table border=\"1\" class=\"dataframe\">\n",
       "  <thead>\n",
       "    <tr style=\"text-align: right;\">\n",
       "      <th></th>\n",
       "      <th>s_1</th>\n",
       "      <th>s_2</th>\n",
       "    </tr>\n",
       "  </thead>\n",
       "  <tbody>\n",
       "    <tr>\n",
       "      <th>s_1</th>\n",
       "      <td>83.88</td>\n",
       "      <td>48.30</td>\n",
       "    </tr>\n",
       "    <tr>\n",
       "      <th>s_2</th>\n",
       "      <td>61.30</td>\n",
       "      <td>68.48</td>\n",
       "    </tr>\n",
       "  </tbody>\n",
       "</table>\n",
       "</div>"
      ],
      "text/plain": [
       "       s_1    s_2\n",
       "s_1  83.88  48.30\n",
       "s_2  61.30  68.48"
      ]
     },
     "execution_count": 3,
     "metadata": {},
     "output_type": "execute_result"
    }
   ],
   "source": [
    "payoff2"
   ]
  },
  {
   "cell_type": "code",
   "execution_count": 4,
   "metadata": {},
   "outputs": [
    {
     "data": {
      "text/html": [
       "<div>\n",
       "<style scoped>\n",
       "    .dataframe tbody tr th:only-of-type {\n",
       "        vertical-align: middle;\n",
       "    }\n",
       "\n",
       "    .dataframe tbody tr th {\n",
       "        vertical-align: top;\n",
       "    }\n",
       "\n",
       "    .dataframe thead th {\n",
       "        text-align: right;\n",
       "    }\n",
       "</style>\n",
       "<table border=\"1\" class=\"dataframe\">\n",
       "  <thead>\n",
       "    <tr style=\"text-align: right;\">\n",
       "      <th></th>\n",
       "      <th>s_1</th>\n",
       "      <th>s_2</th>\n",
       "    </tr>\n",
       "  </thead>\n",
       "  <tbody>\n",
       "    <tr>\n",
       "      <th>s_1</th>\n",
       "      <td>61.26, 83.88</td>\n",
       "      <td>-6.09, 48.3</td>\n",
       "    </tr>\n",
       "    <tr>\n",
       "      <th>s_2</th>\n",
       "      <td>-4.49, 61.3</td>\n",
       "      <td>96.14, 68.48</td>\n",
       "    </tr>\n",
       "  </tbody>\n",
       "</table>\n",
       "</div>"
      ],
      "text/plain": [
       "              s_1           s_2\n",
       "s_1  61.26, 83.88   -6.09, 48.3\n",
       "s_2   -4.49, 61.3  96.14, 68.48"
      ]
     },
     "execution_count": 4,
     "metadata": {},
     "output_type": "execute_result"
    }
   ],
   "source": [
    "j2m.jogo(payoff1, payoff2)"
   ]
  },
  {
   "cell_type": "markdown",
   "metadata": {},
   "source": []
  },
  {
   "cell_type": "code",
   "execution_count": 5,
   "metadata": {},
   "outputs": [
    {
     "data": {
      "text/html": [
       "<div>\n",
       "<style scoped>\n",
       "    .dataframe tbody tr th:only-of-type {\n",
       "        vertical-align: middle;\n",
       "    }\n",
       "\n",
       "    .dataframe tbody tr th {\n",
       "        vertical-align: top;\n",
       "    }\n",
       "\n",
       "    .dataframe thead th {\n",
       "        text-align: right;\n",
       "    }\n",
       "</style>\n",
       "<table border=\"1\" class=\"dataframe\">\n",
       "  <thead>\n",
       "    <tr style=\"text-align: right;\">\n",
       "      <th></th>\n",
       "      <th>s_1</th>\n",
       "      <th>s_2</th>\n",
       "    </tr>\n",
       "  </thead>\n",
       "  <tbody>\n",
       "    <tr>\n",
       "      <th>Jog 1</th>\n",
       "      <td>0.167914</td>\n",
       "      <td>0.832086</td>\n",
       "    </tr>\n",
       "    <tr>\n",
       "      <th>Jog 2</th>\n",
       "      <td>0.608584</td>\n",
       "      <td>0.391416</td>\n",
       "    </tr>\n",
       "  </tbody>\n",
       "</table>\n",
       "</div>"
      ],
      "text/plain": [
       "            s_1       s_2\n",
       "Jog 1  0.167914  0.832086\n",
       "Jog 2  0.608584  0.391416"
      ]
     },
     "execution_count": 5,
     "metadata": {},
     "output_type": "execute_result"
    }
   ],
   "source": [
    "j2m.solve(payoff1, payoff2)"
   ]
  }
 ],
 "metadata": {
  "kernelspec": {
   "display_name": "Python 3",
   "language": "python",
   "name": "python3"
  },
  "language_info": {
   "codemirror_mode": {
    "name": "ipython",
    "version": 3
   },
   "file_extension": ".py",
   "mimetype": "text/x-python",
   "name": "python",
   "nbconvert_exporter": "python",
   "pygments_lexer": "ipython3",
   "version": "3.7.1"
  }
 },
 "nbformat": 4,
 "nbformat_minor": 2
}
